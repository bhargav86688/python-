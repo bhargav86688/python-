{
 "cells": [
  {
   "cell_type": "code",
   "execution_count": null,
   "metadata": {
    "id": "u9twu1pUdVZD"
   },
   "outputs": [],
   "source": [
    "# what is python\n",
    "# why we use python\n",
    "# applications of python\n",
    "# explain about comments with examples\n",
    "# explain about keywords\n",
    "# explain about variable"
   ]
  },
  {
   "cell_type": "markdown",
   "metadata": {
    "id": "TfO0Z7MMzOf1"
   },
   "source": [
    "# what is python\n",
    "\n",
    "Python is a high-level, interpreted programming language known for its simplicity and readability. It supports multiple programming paradigms, including procedural, object-oriented, and functional programming. Python is widely used for web development, data science, automation, machine learning, and more."
   ]
  },
  {
   "cell_type": "markdown",
   "metadata": {
    "id": "-2YuKBh3zaii"
   },
   "source": [
    "# why we use python\n",
    "\n",
    "Python is popular because of:\n",
    "\n",
    " Simple and readable code.\n",
    " Used in web development, AI, ML, data science, etc.\n",
    " Extensive libraries and frameworks.\n",
    " Runs on Windows, Linux, and macOS.\n",
    " No need for manual memory allocation."
   ]
  },
  {
   "cell_type": "markdown",
   "metadata": {
    "id": "c-k4i7XQ1LdW"
   },
   "source": [
    "# applications of python\n",
    "\n",
    "Python is used in various domains, such as:\n",
    "\n",
    "Web Development,Data Science & AI,Automation & Scripting,Game Development,Cybersecurity,Embedded Systems & IoT,Desktop Applications\n",
    "\n"
   ]
  },
  {
   "cell_type": "markdown",
   "metadata": {
    "id": "RbalFRBW2U2B"
   },
   "source": [
    "# explain about comments with examples\n",
    "\n",
    "Comments in Python are used to explain the code and improve readability. They are ignored by the interpreter.\n",
    "\n",
    "print(\"Hello, World!\")  # This prints Hello, World!\n",
    "   \n",
    "\n",
    "\n",
    "\n"
   ]
  },
  {
   "cell_type": "markdown",
   "metadata": {
    "id": "GKd-SaaH3hCs"
   },
   "source": [
    "# explain about keywords\n",
    "\n",
    "Python keywords are reserved words that have specific meanings and are used to define the structure and syntax of Python. They are the building blocks of Python programs.\n",
    "\n",
    "\tTrue\n",
    "\tFor each\n",
    "\tfalse\n",
    "\tand\n",
    "\tas\n",
    "\tassert\n",
    "\tasync\n",
    "    await\n",
    "\tbreak\n",
    "\tclass\n",
    "\tcontinue\n",
    "\tdef\n",
    "\tdel\n",
    "\telif\n",
    "\telse\n",
    "\texcept\n",
    "\tfinally\n",
    "\tfor\n",
    "\tfrom\n",
    "\tglobal\n",
    "\tif\n",
    "\timport\n",
    "\tin\n",
    "\tis\n",
    "\tlambda\n",
    "\tnonlocal\n",
    "\tnot\n",
    "\tor\n",
    "\tpass\n",
    "\traise\n",
    "\treturn\n",
    "\ttry\n",
    "\twhile\n",
    "\twith\n",
    "\tyield\n",
    "\n"
   ]
  },
  {
   "cell_type": "markdown",
   "metadata": {
    "id": "yHcCv62451WF"
   },
   "source": [
    "# explain about variable\n",
    "\n",
    "A variable in Python is a name that refers to a memory location where a value is stored. It acts as a container to hold data that can be used and manipulated throughout a program.\n",
    "\n"
   ]
  },
  {
   "cell_type": "code",
   "execution_count": 2,
   "metadata": {
    "id": "TiC79526NUOd"
   },
   "outputs": [],
   "source": [
    "#Examples of variables in Python\n",
    "\n",
    "a = 50\n",
    "\n",
    "b = 'joe'\n"
   ]
  }
 ],
 "metadata": {
  "colab": {
   "provenance": []
  },
  "kernelspec": {
   "display_name": "Python 3 (ipykernel)",
   "language": "python",
   "name": "python3"
  },
  "language_info": {
   "codemirror_mode": {
    "name": "ipython",
    "version": 3
   },
   "file_extension": ".py",
   "mimetype": "text/x-python",
   "name": "python",
   "nbconvert_exporter": "python",
   "pygments_lexer": "ipython3",
   "version": "3.12.7"
  }
 },
 "nbformat": 4,
 "nbformat_minor": 4
}
