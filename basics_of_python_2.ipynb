{
 "cells": [
  {
   "cell_type": "code",
   "execution_count": null,
   "id": "f6c25dc0-6fa6-4b2a-a01c-e5057d0ff849",
   "metadata": {},
   "outputs": [],
   "source": [
    "#what is data type?\n",
    "#tA data type tells what kind of value a variable can store such as int,float,boolean,complex or string\n",
    "#it contains 4 types\n",
    "\"\"\"\n",
    "1. integer\n",
    "2. float\n",
    "3. complex\n",
    "4. boolean\n",
    "\"\"\"\n",
    "   "
   ]
  },
  {
   "cell_type": "code",
   "execution_count": null,
   "id": "b872a1b6-f929-421f-8e60-1c1376641f47",
   "metadata": {},
   "outputs": [],
   "source": [
    "#intger with 10 examples"
   ]
  },
  {
   "cell_type": "code",
   "execution_count": 1,
   "id": "82831cb5-5ff6-46a2-8b88-5a7d03ee82df",
   "metadata": {},
   "outputs": [
    {
     "name": "stdout",
     "output_type": "stream",
     "text": [
      "1\n"
     ]
    }
   ],
   "source": [
    "a =1\n",
    "print(a)"
   ]
  },
  {
   "cell_type": "code",
   "execution_count": 3,
   "id": "16b491ba-b43b-4671-be02-8c76f438d925",
   "metadata": {},
   "outputs": [
    {
     "name": "stdout",
     "output_type": "stream",
     "text": [
      "2\n"
     ]
    }
   ],
   "source": [
    "b = 2\n",
    "print(b)"
   ]
  },
  {
   "cell_type": "code",
   "execution_count": 2,
   "id": "3bb122fb-0feb-49dd-81ad-00c5148f2833",
   "metadata": {},
   "outputs": [
    {
     "name": "stdout",
     "output_type": "stream",
     "text": [
      "3\n"
     ]
    }
   ],
   "source": [
    "c= 3\n",
    "print(c)\n"
   ]
  },
  {
   "cell_type": "code",
   "execution_count": 4,
   "id": "5c6b1ad5-0ddf-4b18-83a1-d29202ec0472",
   "metadata": {},
   "outputs": [
    {
     "name": "stdout",
     "output_type": "stream",
     "text": [
      "5\n"
     ]
    }
   ],
   "source": [
    "d = 5\n",
    "print(d)"
   ]
  },
  {
   "cell_type": "code",
   "execution_count": 5,
   "id": "46e0dbcc-75b1-4e01-bbb0-c697e9fa4749",
   "metadata": {},
   "outputs": [
    {
     "name": "stdout",
     "output_type": "stream",
     "text": [
      "-10\n"
     ]
    }
   ],
   "source": [
    "e = -10\n",
    "print(e)"
   ]
  },
  {
   "cell_type": "code",
   "execution_count": 6,
   "id": "82774fc6-7cc2-47ba-a499-c9e4da16f28f",
   "metadata": {},
   "outputs": [
    {
     "name": "stdout",
     "output_type": "stream",
     "text": [
      "-11\n"
     ]
    }
   ],
   "source": [
    "f = -11\n",
    "print(f)"
   ]
  },
  {
   "cell_type": "code",
   "execution_count": 7,
   "id": "b8811feb-fcb8-4c13-8aac-bfa66c6ca827",
   "metadata": {},
   "outputs": [
    {
     "name": "stdout",
     "output_type": "stream",
     "text": [
      "10\n"
     ]
    }
   ],
   "source": [
    "g= 10\n",
    "print(g)"
   ]
  },
  {
   "cell_type": "code",
   "execution_count": 8,
   "id": "91f446da-6f1d-4042-97f5-f5827de0f710",
   "metadata": {},
   "outputs": [
    {
     "name": "stdout",
     "output_type": "stream",
     "text": [
      "100\n"
     ]
    }
   ],
   "source": [
    "h= 100\n",
    "print(h)"
   ]
  },
  {
   "cell_type": "code",
   "execution_count": 9,
   "id": "743b24d0-65c8-4d10-bd2c-9d1808a94d27",
   "metadata": {},
   "outputs": [
    {
     "name": "stdout",
     "output_type": "stream",
     "text": [
      "101\n"
     ]
    }
   ],
   "source": [
    "i = 101\n",
    "print(i)"
   ]
  },
  {
   "cell_type": "code",
   "execution_count": 10,
   "id": "362d8a1b-a334-46ee-bd94-9e2dcffcd712",
   "metadata": {},
   "outputs": [
    {
     "name": "stdout",
     "output_type": "stream",
     "text": [
      "103442203747\n"
     ]
    }
   ],
   "source": [
    "j= 103442203747\n",
    "print(j)"
   ]
  },
  {
   "cell_type": "code",
   "execution_count": null,
   "id": "84398111-746b-4ac0-a4d6-5ed972ca1cae",
   "metadata": {},
   "outputs": [],
   "source": [
    "#float with 7 examples\n"
   ]
  },
  {
   "cell_type": "code",
   "execution_count": 12,
   "id": "399cb0db-4176-471d-af31-134ee8990a2a",
   "metadata": {},
   "outputs": [
    {
     "name": "stdout",
     "output_type": "stream",
     "text": [
      "1.2\n"
     ]
    }
   ],
   "source": [
    " a= 1.2\n",
    "print(a)"
   ]
  },
  {
   "cell_type": "code",
   "execution_count": 13,
   "id": "6691b242-0387-4838-9b70-f8deffdf54ea",
   "metadata": {},
   "outputs": [
    {
     "name": "stdout",
     "output_type": "stream",
     "text": [
      "2.2\n"
     ]
    }
   ],
   "source": [
    "b= 2.2\n",
    "print(b)"
   ]
  },
  {
   "cell_type": "code",
   "execution_count": 14,
   "id": "f48d4cf6-6904-426f-b86b-7f24ce493a04",
   "metadata": {},
   "outputs": [
    {
     "name": "stdout",
     "output_type": "stream",
     "text": [
      "3.4\n"
     ]
    }
   ],
   "source": [
    "c=3.4\n",
    "print(c)"
   ]
  },
  {
   "cell_type": "code",
   "execution_count": 15,
   "id": "07d1ce70-c2be-4d8f-b15c-c70b0b4f1681",
   "metadata": {},
   "outputs": [
    {
     "name": "stdout",
     "output_type": "stream",
     "text": [
      "0.9\n"
     ]
    }
   ],
   "source": [
    "d= 0.9\n",
    "print(d)"
   ]
  },
  {
   "cell_type": "code",
   "execution_count": 16,
   "id": "60cb3430-db10-4d87-854b-dbc74a896512",
   "metadata": {},
   "outputs": [
    {
     "name": "stdout",
     "output_type": "stream",
     "text": [
      "0.9\n"
     ]
    }
   ],
   "source": [
    "e= 9.9\n",
    "print(d)"
   ]
  },
  {
   "cell_type": "code",
   "execution_count": 17,
   "id": "8275d4e6-a5bd-4e6a-b776-73fbb6efdc9b",
   "metadata": {},
   "outputs": [
    {
     "name": "stdout",
     "output_type": "stream",
     "text": [
      "940.039444\n"
     ]
    }
   ],
   "source": [
    "f=940.039444\n",
    "print(f)"
   ]
  },
  {
   "cell_type": "code",
   "execution_count": 18,
   "id": "e7788ad5-51d4-4e94-9cbf-ee6839c0588b",
   "metadata": {},
   "outputs": [
    {
     "name": "stdout",
     "output_type": "stream",
     "text": [
      "-94.49444\n"
     ]
    }
   ],
   "source": [
    "g=-94.49444\n",
    "print(g)"
   ]
  },
  {
   "cell_type": "code",
   "execution_count": null,
   "id": "d7bc4abd-caa3-425f-bd37-1e8c8c289102",
   "metadata": {},
   "outputs": [],
   "source": [
    "#complex with 7 examples"
   ]
  },
  {
   "cell_type": "code",
   "execution_count": 19,
   "id": "58bbddd2-7211-41a0-9757-b7cf85b66d98",
   "metadata": {},
   "outputs": [
    {
     "name": "stdout",
     "output_type": "stream",
     "text": [
      "(20+9j)\n"
     ]
    }
   ],
   "source": [
    "a=20+9j\n",
    "print(a)"
   ]
  },
  {
   "cell_type": "code",
   "execution_count": 25,
   "id": "70005a6f-fadd-4459-9b0b-b5c64cf06841",
   "metadata": {},
   "outputs": [
    {
     "name": "stdout",
     "output_type": "stream",
     "text": [
      "(30+10j)\n"
     ]
    }
   ],
   "source": [
    "b=30+10j\n",
    "print(b)\n"
   ]
  },
  {
   "cell_type": "code",
   "execution_count": 26,
   "id": "71739028-12c3-45ee-86a4-69e46be491bb",
   "metadata": {},
   "outputs": [
    {
     "name": "stdout",
     "output_type": "stream",
     "text": [
      "(40+30j)\n"
     ]
    }
   ],
   "source": [
    "c=40+30j\n",
    "print(c)"
   ]
  },
  {
   "cell_type": "code",
   "execution_count": 27,
   "id": "8e9d27cb-285b-4c76-948b-58367a9dabbf",
   "metadata": {},
   "outputs": [
    {
     "name": "stdout",
     "output_type": "stream",
     "text": [
      "(50+100j)\n"
     ]
    }
   ],
   "source": [
    "d= 50+100j\n",
    "print(d)"
   ]
  },
  {
   "cell_type": "code",
   "execution_count": 28,
   "id": "7e4b080f-373f-4bab-9e73-8c275e2da7fa",
   "metadata": {},
   "outputs": [
    {
     "name": "stdout",
     "output_type": "stream",
     "text": [
      "(-60-40j)\n"
     ]
    }
   ],
   "source": [
    "e= -60-40j\n",
    "print(e)"
   ]
  },
  {
   "cell_type": "code",
   "execution_count": 29,
   "id": "99ad6f5b-bb94-43c8-85e5-5d76717091e8",
   "metadata": {},
   "outputs": [
    {
     "name": "stdout",
     "output_type": "stream",
     "text": [
      "(70-60j)\n"
     ]
    }
   ],
   "source": [
    "f=70-60j\n",
    "print(f)"
   ]
  },
  {
   "cell_type": "code",
   "execution_count": 30,
   "id": "21fd8988-18a0-41cc-80f0-a8ded56b3557",
   "metadata": {},
   "outputs": [
    {
     "name": "stdout",
     "output_type": "stream",
     "text": [
      "(80-70j)\n"
     ]
    }
   ],
   "source": [
    "g=80-70j\n",
    "print(g)"
   ]
  },
  {
   "cell_type": "code",
   "execution_count": null,
   "id": "37775da7-b10e-4e41-8f9a-e3150e582045",
   "metadata": {},
   "outputs": [],
   "source": [
    "#boolean with 7 examples\n"
   ]
  },
  {
   "cell_type": "code",
   "execution_count": 32,
   "id": "752600c9-8010-4ad1-b7f2-e5ff2972819f",
   "metadata": {},
   "outputs": [
    {
     "name": "stdout",
     "output_type": "stream",
     "text": [
      "True\n"
     ]
    }
   ],
   "source": [
    "a= True\n",
    "print(a)"
   ]
  },
  {
   "cell_type": "code",
   "execution_count": 33,
   "id": "17e950d3-1dfd-4d05-8330-9d087a90dc43",
   "metadata": {},
   "outputs": [
    {
     "name": "stdout",
     "output_type": "stream",
     "text": [
      "False\n"
     ]
    }
   ],
   "source": [
    "b= False\n",
    "print(b)"
   ]
  },
  {
   "cell_type": "code",
   "execution_count": 34,
   "id": "62d4bbd6-d0bd-4864-91f0-8f59091e0219",
   "metadata": {},
   "outputs": [
    {
     "name": "stdout",
     "output_type": "stream",
     "text": [
      "False\n"
     ]
    }
   ],
   "source": [
    "c=3>3\n",
    "print(c)"
   ]
  },
  {
   "cell_type": "code",
   "execution_count": 35,
   "id": "209cecea-6fc6-4ed6-9496-3ba03ae86837",
   "metadata": {},
   "outputs": [
    {
     "name": "stdout",
     "output_type": "stream",
     "text": [
      "False\n"
     ]
    }
   ],
   "source": [
    "d= 4>5\n",
    "print(d)"
   ]
  },
  {
   "cell_type": "code",
   "execution_count": 39,
   "id": "4a9f20b3-7f0a-4f1d-96a3-879aa4a52dba",
   "metadata": {},
   "outputs": [
    {
     "name": "stdout",
     "output_type": "stream",
     "text": [
      "True\n"
     ]
    }
   ],
   "source": [
    "e=-5<-2\n",
    "print(e)"
   ]
  },
  {
   "cell_type": "code",
   "execution_count": 40,
   "id": "b2779bcc-ae67-45b1-a416-d5b7dc618a10",
   "metadata": {},
   "outputs": [
    {
     "name": "stdout",
     "output_type": "stream",
     "text": [
      "False\n"
     ]
    }
   ],
   "source": [
    "f=-6<-9\n",
    "print(f)"
   ]
  },
  {
   "cell_type": "code",
   "execution_count": 38,
   "id": "765c438b-d01a-448d-8576-7991cb48ae5a",
   "metadata": {},
   "outputs": [
    {
     "name": "stdout",
     "output_type": "stream",
     "text": [
      "True\n"
     ]
    }
   ],
   "source": [
    "g=1<10\n",
    "print(g)"
   ]
  },
  {
   "cell_type": "code",
   "execution_count": null,
   "id": "1e3c4655-0350-40fb-8709-53044d49d9bf",
   "metadata": {},
   "outputs": [],
   "source": [
    "#type conversion with 10 examples"
   ]
  },
  {
   "cell_type": "code",
   "execution_count": 41,
   "id": "f140f97b-28cf-4fa9-a008-0687f1a8d1cb",
   "metadata": {},
   "outputs": [
    {
     "name": "stdout",
     "output_type": "stream",
     "text": [
      "<class 'int'>\n"
     ]
    }
   ],
   "source": [
    "a=10\n",
    "print(type(a))"
   ]
  },
  {
   "cell_type": "code",
   "execution_count": 42,
   "id": "1925fad0-2114-4389-9e9e-e8f578acee69",
   "metadata": {},
   "outputs": [
    {
     "name": "stdout",
     "output_type": "stream",
     "text": [
      "<class 'int'>\n"
     ]
    }
   ],
   "source": [
    "b= -20\n",
    "print(type(b))"
   ]
  },
  {
   "cell_type": "code",
   "execution_count": 43,
   "id": "5e2e2ef1-68e1-4efa-b5b2-47d07e1da4ea",
   "metadata": {},
   "outputs": [
    {
     "name": "stdout",
     "output_type": "stream",
     "text": [
      "<class 'int'>\n"
     ]
    }
   ],
   "source": [
    "c=30\n",
    "print(type(b))"
   ]
  },
  {
   "cell_type": "code",
   "execution_count": 44,
   "id": "2d6337b3-b437-4006-a7c0-4181f138b68a",
   "metadata": {},
   "outputs": [
    {
     "name": "stdout",
     "output_type": "stream",
     "text": [
      "<class 'float'>\n"
     ]
    }
   ],
   "source": [
    "d=30.01\n",
    "print(type(d))"
   ]
  },
  {
   "cell_type": "code",
   "execution_count": 45,
   "id": "328b2a23-5a8c-445f-b91d-4515e6f38f13",
   "metadata": {},
   "outputs": [
    {
     "name": "stdout",
     "output_type": "stream",
     "text": [
      "<class 'float'>\n"
     ]
    }
   ],
   "source": [
    "e= -40.010101\n",
    "print(type(e))"
   ]
  },
  {
   "cell_type": "code",
   "execution_count": 46,
   "id": "a466c699-dc72-419b-82ce-7e8be9fa53bd",
   "metadata": {},
   "outputs": [
    {
     "name": "stdout",
     "output_type": "stream",
     "text": [
      "<class 'complex'>\n"
     ]
    }
   ],
   "source": [
    "f=20+90j\n",
    "print(type(f))"
   ]
  },
  {
   "cell_type": "code",
   "execution_count": 47,
   "id": "e152af0e-a248-4bf6-ad7e-f5b204243745",
   "metadata": {},
   "outputs": [
    {
     "name": "stdout",
     "output_type": "stream",
     "text": [
      "<class 'complex'>\n"
     ]
    }
   ],
   "source": [
    "g=90+0j\n",
    "print(type(g))"
   ]
  },
  {
   "cell_type": "code",
   "execution_count": 48,
   "id": "a7dd9843-2f46-4cb0-b3ac-ae71432e8389",
   "metadata": {},
   "outputs": [
    {
     "name": "stdout",
     "output_type": "stream",
     "text": [
      "<class 'bool'>\n"
     ]
    }
   ],
   "source": [
    "h=4<3\n",
    "print(type(h))"
   ]
  },
  {
   "cell_type": "code",
   "execution_count": 49,
   "id": "c421d3b0-68c7-4272-9214-2a5bb85983c5",
   "metadata": {},
   "outputs": [
    {
     "name": "stdout",
     "output_type": "stream",
     "text": [
      "<class 'bool'>\n"
     ]
    }
   ],
   "source": [
    "i=5>6\n",
    "print(type(i))"
   ]
  },
  {
   "cell_type": "code",
   "execution_count": 50,
   "id": "d016f760-6846-4f54-bbd6-6a163d435d21",
   "metadata": {},
   "outputs": [
    {
     "name": "stdout",
     "output_type": "stream",
     "text": [
      "<class 'bool'>\n"
     ]
    }
   ],
   "source": [
    "j=-0.9>-1.0\n",
    "print(type(j))"
   ]
  }
 ],
 "metadata": {
  "kernelspec": {
   "display_name": "Python 3 (ipykernel)",
   "language": "python",
   "name": "python3"
  },
  "language_info": {
   "codemirror_mode": {
    "name": "ipython",
    "version": 3
   },
   "file_extension": ".py",
   "mimetype": "text/x-python",
   "name": "python",
   "nbconvert_exporter": "python",
   "pygments_lexer": "ipython3",
   "version": "3.12.7"
  }
 },
 "nbformat": 4,
 "nbformat_minor": 5
}
